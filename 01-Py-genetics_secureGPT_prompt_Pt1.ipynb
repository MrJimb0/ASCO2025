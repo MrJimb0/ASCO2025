{
 "cells": [
  {
   "cell_type": "code",
   "execution_count": 58,
   "id": "5e9ed2ac-4ff2-40b9-a1df-e21d5e49b4ab",
   "metadata": {},
   "outputs": [],
   "source": [
    "import requests\n",
    "import re\n",
    "import json\n",
    "import io\n",
    "import csv\n",
    "import os\n",
    "import pandas as pd\n",
    "import datetime\n",
    "from io import StringIO\n",
    "from openai import AzureOpenAI\n",
    "from openai import OpenAI\n",
    "import numpy as np\n",
    "from time import sleep\n",
    "import pyspark"
   ]
  },
  {
   "cell_type": "code",
   "execution_count": 60,
   "id": "21acd58a-7600-40e6-8f67-0bff122307d3",
   "metadata": {},
   "outputs": [],
   "source": [
    "import sys"
   ]
  },
  {
   "cell_type": "code",
   "execution_count": 61,
   "id": "1468138e-0bdb-48c0-8fd0-a4971c4d3bdb",
   "metadata": {},
   "outputs": [],
   "source": [
    "# Project variables\n",
    "import constants\n",
    "locals().update(constants.subdirs)"
   ]
  },
  {
   "cell_type": "code",
   "execution_count": 62,
   "id": "553ade03-85dc-4add-804e-4294e8941b36",
   "metadata": {},
   "outputs": [],
   "source": [
    "# Project functions\n",
    "from functions import getPromptResultsfromAPI"
   ]
  },
  {
   "cell_type": "code",
   "execution_count": 63,
   "id": "dce444ce-e4d0-419c-8ffa-abd4ee2f0b55",
   "metadata": {},
   "outputs": [],
   "source": [
    "## Variables to Change\n",
    "notesFile_version=constants.noteIDs[0]\n",
    "goldStandard=True\n",
    "runID=\"run1o2\"\n",
    "if goldStandard:\n",
    "    notesV=notesFile_version\n",
    "    notesFile_version=notesFile_version+\"_\"+runID"
   ]
  },
  {
   "cell_type": "code",
   "execution_count": 64,
   "id": "f2c6c59b-720c-4518-a3dd-be3729dea1ed",
   "metadata": {},
   "outputs": [],
   "source": [
    "# Prompt Variables\n",
    "import prompts.prompt_v2o1\n",
    "from prompts.prompt_v2o1 import instructions\n",
    "from prompts.prompt_v2o1 import question_p1\n",
    "from prompts.prompt_v2o1 import getDataFrame_fromResponse_pt1\n",
    "locals().update(prompts.prompt_v2o1.modelVars)"
   ]
  },
  {
   "cell_type": "code",
   "execution_count": 69,
   "id": "65d496ed-90ad-44fd-a4c0-216dba0a2e42",
   "metadata": {},
   "outputs": [],
   "source": [
    "# In file - raw notes \n",
    "if goldStandard:\n",
    "    f_Notes=datRaw+ \"NotesbyID\\\\IDfiltered_onco_genetics_\"+notesV+\"_edit.csv\"\n",
    "else:\n",
    "    f_Notes=datRaw+ \"NotesbyID\\\\IDfiltered_onco_genetics_\"+notesFile_version+\".csv\""
   ]
  },
  {
   "cell_type": "code",
   "execution_count": 70,
   "id": "5b8707cb-b735-4363-abc1-f7051bce2c72",
   "metadata": {},
   "outputs": [],
   "source": [
    "# Out file\n",
    "f_p1NotesTMP=tmpOutDir+ \"responsesP1_notes\"+notesFile_version+\"_OUTPUT_\"+gptModel+\"_\"+promptV+\"_TMP.txt\""
   ]
  },
  {
   "cell_type": "code",
   "execution_count": 71,
   "id": "3e00bb82-8605-492c-883e-825cfd5fd26f",
   "metadata": {},
   "outputs": [],
   "source": [
    "variables = {}\n",
    "with open(constants.f_mykey) as f:\n",
    "    for line in f:\n",
    "        name, value = line.split(\"=\")\n",
    "        variables[name] = str(value)\n",
    "\n",
    "my_key = variables[\"my_key\"]"
   ]
  },
  {
   "cell_type": "code",
   "execution_count": 72,
   "id": "2d28b635-b6a6-4c34-9bb6-7002cf61075e",
   "metadata": {},
   "outputs": [],
   "source": [
    "notesDF=pd.read_csv(f_Notes, header = 0, converters={'mrn':str})"
   ]
  },
  {
   "cell_type": "code",
   "execution_count": 73,
   "id": "d2eefeb5-0dba-4906-95df-bf83634cf767",
   "metadata": {},
   "outputs": [],
   "source": [
    "## local output file, script continuously writes to output, if local, less likely to crash\n",
    "## if it doesnt exist, write file header/ temporary out file\n",
    "if not (os.path.isfile(f_p1NotesTMP)):\n",
    "    with open(f_p1NotesTMP, 'w', newline='') as filep1:\n",
    "        tsv_writer = csv.writer(filep1, delimiter='\\t', lineterminator='\\n')\n",
    "        tsv_writer.writerow(p1Cols)"
   ]
  },
  {
   "cell_type": "code",
   "execution_count": 75,
   "id": "6a8d3f30-bc84-40b8-838c-9e560d65afd7",
   "metadata": {},
   "outputs": [],
   "source": [
    "# Run only the notes note already ran\n",
    "p1TMP_In=pd.read_table(f_p1NotesTMP, header = 0, converters={'mrn':str})\n",
    "notesDF=notesDF[~notesDF.note_id.isin(p1TMP_In.note_id)].reset_index(drop=True) # Remove rows that are already complete"
   ]
  },
  {
   "cell_type": "code",
   "execution_count": 76,
   "id": "d0e37b3f-7243-41ef-9979-fb4ead679540",
   "metadata": {},
   "outputs": [
    {
     "name": "stdout",
     "output_type": "stream",
     "text": [
      "You are a genetics counselor knowledgeable in genetics testing for several cancer types. You are reading {} that may contain results and other information about a patient's history of genetics testing. When asked about genetics testing history, you will provide responses in as few words as possible without any additional details or summary text. Your answers will be precise, and responses will not be assumed from context.\n"
     ]
    }
   ],
   "source": [
    "print(instructions)"
   ]
  },
  {
   "cell_type": "code",
   "execution_count": 77,
   "id": "41c28a2c-4ce8-443e-87b1-4400f1a66269",
   "metadata": {},
   "outputs": [
    {
     "name": "stdout",
     "output_type": "stream",
     "text": [
      "For the genetics note pasted below, print one line of tab-delimited text with the following fields:\n",
      "\n",
      " - F1: Answer the question, 'Was genetic testing ordered in this patient?' Only answer 'yes' or 'no'.\n",
      " - F2: List the laboratory (e.g. 'Invitae', 'Ambry', 'Myriad', 'Foundation') that the testing was ordered from. Answer 'NA' if no testing was ordered \n",
      " - F3: List the name of the genetics panel performed by the laboratory in F2. (e.g. 'CancerNext Expanded', 'Multi-gene cancer risk panel', 'Multi-gene breast/ovarian cancer risk panel'). If no testing panel name was provided or genetics testing was not ordered, answer 'N/A'.\n",
      " - F4: If explicitly given, include a comma separated list of all gene names that were tested for in the testing laboratories gene panel, regardless of results or pathogenic variant discovery. Answer 'NA', if a full list of genes was not given\n",
      " - F5: List the date that genetic testing was performed or results were returned. Only include a single date, in the format mm/yyyy or mm/dd/yyyy. Answer 'NA' if no results were returned or the date is unknown\n",
      " - F6: Answer the question, 'Was a pathogenic variant, likely pathogenic variant, moderate risk variant, or variant of unknown or uncertain significance found in this patient?' Only answer 'yes', 'no', or 'NA' if results were not available.\n",
      "{}\n"
     ]
    }
   ],
   "source": [
    "print(question_p1)"
   ]
  },
  {
   "cell_type": "code",
   "execution_count": 78,
   "id": "caf41eca-da5c-4f0e-b354-2d3611ec4b75",
   "metadata": {},
   "outputs": [
    {
     "name": "stdout",
     "output_type": "stream",
     "text": [
      "Total notes to process: 1\n"
     ]
    }
   ],
   "source": [
    "tries=3 # will try note 3x before moving onto new note\n",
    "total_notes = len(notesDF)\n",
    "print(\"Total notes to process: \" + str(total_notes))"
   ]
  },
  {
   "cell_type": "code",
   "execution_count": null,
   "id": "643d39dc-5e05-4199-ad54-93d5c04ec63c",
   "metadata": {
    "scrolled": true
   },
   "outputs": [],
   "source": [
    "p1Results = list()\n",
    "p1_skip = list()\n",
    "total_notes = len(notesDF)\n",
    "for i in range (0,total_notes):\n",
    "        prompt=question_p1.format(notesDF['note'].iloc[i])\n",
    "        mrn=notesDF['mrn'].iloc[i]\n",
    "        NoteID=notesDF['note_id'].iloc[i]\n",
    "        print(\"Getting results for prompt #{}: NoteID ={}\".format(i+1, NoteID))\n",
    "\n",
    "        for j in range(tries):   # Try 3 times before it gives up --if formatting is incorrect\n",
    "            try:\n",
    "                prompt_out=getPromptResultsfromAPI(gpturl,tries,gptModel,instructions,prompt,my_key)\n",
    "                respDF=getDataFrame_fromResponse_pt1(mrn,prompt_out,NoteID)\n",
    "            \n",
    "                ## Check Proper Formatting\n",
    "                if not isinstance(respDF, pd.DataFrame):\n",
    "                    raise ValueError\n",
    "                \n",
    "            except:\n",
    "                if j < tries - 1:\n",
    "                    print(\"Response formatted incorrectly, retrying ...\")\n",
    "                    continue\n",
    "                else:\n",
    "                    p1_skip.append(notesDF.iloc[i])\n",
    "            break\n",
    "        p1Results.append(respDF)\n",
    "        respDF.to_csv(f_p1NotesTMP,mode='a',sep='\\t',index=False,header=False)\n",
    "print(\"Done\")"
   ]
  }
 ],
 "metadata": {
  "kernelspec": {
   "display_name": "Python 3 (ipykernel)",
   "language": "python",
   "name": "python3"
  },
  "language_info": {
   "codemirror_mode": {
    "name": "ipython",
    "version": 3
   },
   "file_extension": ".py",
   "mimetype": "text/x-python",
   "name": "python",
   "nbconvert_exporter": "python",
   "pygments_lexer": "ipython3",
   "version": "3.11.7"
  }
 },
 "nbformat": 4,
 "nbformat_minor": 5
}
